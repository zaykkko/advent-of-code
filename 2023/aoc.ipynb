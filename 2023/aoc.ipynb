{
  "cells": [
    {
      "cell_type": "markdown",
      "metadata": {
        "id": "r-0hcDNtBwU2"
      },
      "source": [
        "# Advent of Code 2023 solutions\n",
        "https://adventofcode.com/2023\n",
        "\n",
        "*by zayko*"
      ]
    },
    {
      "cell_type": "markdown",
      "metadata": {
        "id": "3GXGxguVfUYi"
      },
      "source": [
        "## Día 1\n"
      ]
    },
    {
      "cell_type": "markdown",
      "metadata": {
        "id": "D2PhqQP6CQUm"
      },
      "source": [
        "### Parte 1\n",
        "You try to ask why they can't just use a weather machine (\"not powerful enough\") and where they're even sending you (\"the sky\") and why your map looks mostly blank (\"you sure ask a lot of questions\") and hang on did you just say the sky (\"of course, where do you think snow comes from\") when you realize that the Elves are already loading you into a trebuchet (\"please hold still, we need to strap you in\").\n",
        "\n",
        "As they're making the final adjustments, they discover that their calibration document (your puzzle input) has been amended by a very young Elf who was apparently just excited to show off her art skills. Consequently, the Elves are having trouble reading the values on the document.\n",
        "\n",
        "The newly-improved calibration document consists of lines of text; each line originally contained a specific calibration value that the Elves now need to recover. On each line, the calibration value can be found by combining the first digit and the last digit (in that order) to form a single two-digit number."
      ]
    },
    {
      "cell_type": "code",
      "execution_count": 1,
      "metadata": {
        "colab": {
          "base_uri": "https://localhost:8080/"
        },
        "id": "UXwRJzebfW5V",
        "outputId": "c5631000-ce66-4968-a7c3-256ffd9eab26"
      },
      "outputs": [
        {
          "name": "stdout",
          "output_type": "stream",
          "text": [
            "54927\n"
          ]
        }
      ],
      "source": [
        "with open('./input_data/1.txt', 'r') as file:\n",
        "  lines = file.readlines()\n",
        "\n",
        "  result_1 = 0\n",
        "\n",
        "  for line in lines:\n",
        "      number_list = [char for char in line if char.isdigit()]\n",
        "\n",
        "      result_1 += int(number_list[0] + number_list[-1])\n",
        "\n",
        "  print(result_1)"
      ]
    },
    {
      "cell_type": "markdown",
      "metadata": {
        "id": "MkxMFyquf_7I"
      },
      "source": [
        "### Parte 2\n",
        " Your calculation isn't quite right. It looks like some of the digits are actually spelled out with letters: one, two, three, four, five, six, seven, eight, and nine also count as valid \"digits\"."
      ]
    },
    {
      "cell_type": "code",
      "execution_count": 2,
      "metadata": {
        "colab": {
          "base_uri": "https://localhost:8080/"
        },
        "id": "gQQ3Uybdf-14",
        "outputId": "dba84099-a708-49cc-d882-f2c3d94deb6e"
      },
      "outputs": [
        {
          "name": "stdout",
          "output_type": "stream",
          "text": [
            "54581\n"
          ]
        }
      ],
      "source": [
        "spelt_numbers = ('one', 'two', 'three', 'four', 'five', 'six', 'seven', 'eight', 'nine')\n",
        "\n",
        "with open('./input_data/1.txt', 'r') as file:\n",
        "  lines = file.readlines()\n",
        "\n",
        "  result_2 = 0\n",
        "\n",
        "  for line in lines:\n",
        "    number_list = [(index, char) for index, char in enumerate(line) if char.isdigit()]\n",
        "\n",
        "    spelt_number_list = []\n",
        "    for number, spelt_number in enumerate(spelt_numbers, 1):\n",
        "      if spelt_number in line:\n",
        "        first_match_idx = line.find(spelt_number)\n",
        "        second_match_idx = line.rfind(spelt_number)\n",
        "\n",
        "        spelt_number_list.append((first_match_idx, str(number)))\n",
        "\n",
        "        if second_match_idx > first_match_idx:\n",
        "          spelt_number_list.append((second_match_idx, str(number)))\n",
        "\n",
        "    all_numbers = sorted(number_list + spelt_number_list, key=lambda x: x[0])\n",
        "\n",
        "    result_2 += int(all_numbers[0][1] + all_numbers[-1][1])\n",
        "\n",
        "  print(result_2)"
      ]
    },
    {
      "cell_type": "markdown",
      "metadata": {
        "id": "xinwO6c9A-a2"
      },
      "source": [
        "## Día 2\n"
      ]
    },
    {
      "cell_type": "markdown",
      "metadata": {
        "id": "oYvgUeVDUnoY"
      },
      "source": [
        "### Parte 1\n",
        "(...)\n",
        "As you walk, the Elf shows you a small bag and some cubes which are either red, green, or blue. Each time you play this game, he will hide a secret number of cubes of each color in the bag, and your goal is to figure out information about the number of cubes.\n",
        "\n",
        "To get information, once a bag has been loaded with cubes, the Elf will reach into the bag, grab a handful of random cubes, show them to you, and then put them back in the bag. He'll do this a few times per game.\n",
        "\n",
        "You play several games and record the information from each game (your puzzle input). Each game is listed with its ID number (like the 11 in Game 11: ...) followed by a semicolon-separated list of subsets of cubes that were revealed from the bag (like 3 red, 5 green, 4 blue).\n",
        "For example, the record of a few games might look like this:\n",
        "\n",
        "*   Game 1: 3 blue, 4 red; 1 red, 2 green, 6 blue; 2 green\n",
        "*   Game 2: 1 blue, 2 green; 3 green, 4 blue, 1 red; 1 green, 1 blue\n",
        "*   Game 3: 8 green, 6 blue, 20 red; 5 blue, 4 red, 13 green; 5 green, 1 red\n",
        "*   Game 4: 1 green, 3 red, 6 blue; 3 green, 6 red; 3 green, 15 blue, 14 red\n",
        "*   Game 5: 6 red, 1 blue, 3 green; 2 blue, 1 red, 2 green\n",
        "\n",
        "In game 1, three sets of cubes are revealed from the bag (and then put back again). The first set is 3 blue cubes and 4 red cubes; the second set is 1 red cube, 2 green cubes, and 6 blue cubes; the third set is only 2 green cubes.\n",
        "\n",
        "The Elf would first like to know which games would have been possible if the bag contained only 12 red cubes, 13 green cubes, and 14 blue cubes?\n",
        "\n",
        "In the example above, games 1, 2, and 5 would have been possible if the bag had been loaded with that configuration. However, game 3 would have been impossible because at one point the Elf showed you 20 red cubes at once; similarly, game 4 would also have been impossible because the Elf showed you 15 blue cubes at once. If you add up the IDs of the games that would have been possible, you get 8.\n",
        "\n",
        "Determine which games would have been possible if the bag had been loaded with only 12 red cubes, 13 green cubes, and 14 blue cubes. What is the sum of the IDs of those games?"
      ]
    },
    {
      "cell_type": "code",
      "execution_count": 3,
      "metadata": {
        "colab": {
          "base_uri": "https://localhost:8080/"
        },
        "id": "O8DcTuOTD8nH",
        "outputId": "07b0162e-bffb-4ad7-b531-4efe80e76763"
      },
      "outputs": [
        {
          "name": "stdout",
          "output_type": "stream",
          "text": [
            "2439\n"
          ]
        }
      ],
      "source": [
        "AVAILABLE_COLORS = {'red': 12, 'green': 13, 'blue': 14}\n",
        "\n",
        "def validate_game_record(line):\n",
        "  separation = line.split(':')\n",
        "\n",
        "  game_id = int(separation[0].split()[-1])\n",
        "\n",
        "  raw_cube_sets = list(map(lambda x: list(map(lambda y: y.strip(), x.split(','))), separation[1].split(';')))\n",
        "\n",
        "  for cube_set in raw_cube_sets:\n",
        "    for cube_info in cube_set:\n",
        "      count, color = cube_info.split()\n",
        "\n",
        "      if int(count) > AVAILABLE_COLORS[color]:\n",
        "        return 0\n",
        "\n",
        "  return game_id\n",
        "\n",
        "\n",
        "with open('./input_data/2.txt', 'r') as file:\n",
        "  lines = file.readlines()\n",
        "\n",
        "  result1 = 0\n",
        "  for line in lines:\n",
        "    result1 += validate_game_record(line)\n",
        "\n",
        "  print(result1)\n"
      ]
    },
    {
      "cell_type": "markdown",
      "metadata": {
        "id": "irs2zUlCUwQC"
      },
      "source": [
        "### Parte 2\n",
        "The Elf says they've stopped producing snow because they aren't getting any water! He isn't sure why the water stopped; however, he can show you how to get to the water source to check it out for yourself. It's just up ahead!\n",
        "\n",
        "As you continue your walk, the Elf poses a second question: in each game you played, what is the fewest number of cubes of each color that could have been in the bag to make the game possible?\n",
        "\n",
        "Again consider the example games from earlier:\n",
        "\n",
        "*   Game 1: 3 blue, 4 red; 1 red, 2 green, 6 blue; 2 green\n",
        "*   Game 2: 1 blue, 2 green; 3 green, 4 blue, 1 red; 1 green, 1 blue\n",
        "*   Game 3: 8 green, 6 blue, 20 red; 5 blue, 4 red, 13 green; 5 green, 1 red\n",
        "*   Game 4: 1 green, 3 red, 6 blue; 3 green, 6 red; 3 green, 15 blue, 14 red\n",
        "*   Game 5: 6 red, 1 blue, 3 green; 2 blue, 1 red, 2 green\n",
        "\n",
        "The power of a set of cubes is equal to the numbers of red, green, and blue cubes multiplied together. The power of the minimum set of cubes in game 1 is 48. In games 2-5 it was 12, 1560, 630, and 36, respectively. Adding up these five powers produces the sum 2286.\n",
        "\n",
        "For each game, find the minimum set of cubes that must have been present. What is the sum of the power of these sets?"
      ]
    },
    {
      "cell_type": "code",
      "execution_count": 4,
      "metadata": {
        "colab": {
          "base_uri": "https://localhost:8080/"
        },
        "id": "cM5O8kwtU7E7",
        "outputId": "ea8a210e-8155-4fae-9617-5e320a9dffc5"
      },
      "outputs": [
        {
          "name": "stdout",
          "output_type": "stream",
          "text": [
            "63711\n"
          ]
        }
      ],
      "source": [
        "AVAILABLE_COLORS = {'red': 12, 'green': 13, 'blue': 14}\n",
        "\n",
        "def get_game_record_power(line):\n",
        "  separation = line.split(':')\n",
        "\n",
        "  game_data = {color: 0 for color in AVAILABLE_COLORS.keys()}\n",
        "\n",
        "  raw_cube_sets = list(map(lambda x: list(map(lambda y: y.strip(), x.split(','))), separation[1].split(';')))\n",
        "\n",
        "  for cube_set in raw_cube_sets:\n",
        "    for cube_info in cube_set:\n",
        "      count, color = cube_info.split()\n",
        "\n",
        "      game_data[color] = max(game_data[color], int(count))\n",
        "\n",
        "  product = 1\n",
        "  for color_count in game_data.values():\n",
        "    product *= color_count\n",
        "\n",
        "  return product\n",
        "\n",
        "\n",
        "with open('./input_data/2.txt', 'r') as file:\n",
        "  lines = file.readlines()\n",
        "\n",
        "  result2 = 0\n",
        "  for line in lines:\n",
        "    result2 += get_game_record_power(line)\n",
        "\n",
        "  print(result2)\n"
      ]
    }
  ],
  "metadata": {
    "colab": {
      "collapsed_sections": [
        "D2PhqQP6CQUm"
      ],
      "provenance": []
    },
    "kernelspec": {
      "display_name": "Python 3",
      "name": "python3"
    },
    "language_info": {
      "codemirror_mode": {
        "name": "ipython",
        "version": 3
      },
      "file_extension": ".py",
      "mimetype": "text/x-python",
      "name": "python",
      "nbconvert_exporter": "python",
      "pygments_lexer": "ipython3",
      "version": "3.11.4"
    }
  },
  "nbformat": 4,
  "nbformat_minor": 0
}
