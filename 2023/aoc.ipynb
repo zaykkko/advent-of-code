{
  "cells": [
    {
      "cell_type": "markdown",
      "metadata": {
        "id": "r-0hcDNtBwU2"
      },
      "source": [
        "# Advent of Code 2023 solutions\n",
        "https://adventofcode.com/2023\n",
        "\n",
        "*by zayko*"
      ]
    },
    {
      "cell_type": "markdown",
      "metadata": {
        "id": "3GXGxguVfUYi"
      },
      "source": [
        "## Día 1\n"
      ]
    },
    {
      "cell_type": "markdown",
      "metadata": {
        "id": "D2PhqQP6CQUm"
      },
      "source": [
        "### Parte 1\n",
        "You try to ask why they can't just use a weather machine (\"not powerful enough\") and where they're even sending you (\"the sky\") and why your map looks mostly blank (\"you sure ask a lot of questions\") and hang on did you just say the sky (\"of course, where do you think snow comes from\") when you realize that the Elves are already loading you into a trebuchet (\"please hold still, we need to strap you in\").\n",
        "\n",
        "As they're making the final adjustments, they discover that their calibration document (your puzzle input) has been amended by a very young Elf who was apparently just excited to show off her art skills. Consequently, the Elves are having trouble reading the values on the document.\n",
        "\n",
        "The newly-improved calibration document consists of lines of text; each line originally contained a specific calibration value that the Elves now need to recover. On each line, the calibration value can be found by combining the first digit and the last digit (in that order) to form a single two-digit number."
      ]
    },
    {
      "cell_type": "code",
      "execution_count": null,
      "metadata": {
        "colab": {
          "base_uri": "https://localhost:8080/"
        },
        "id": "UXwRJzebfW5V",
        "outputId": "c5631000-ce66-4968-a7c3-256ffd9eab26"
      },
      "outputs": [
        {
          "name": "stdout",
          "output_type": "stream",
          "text": [
            "54927\n"
          ]
        }
      ],
      "source": [
        "with open('./input_data/1.txt', 'r') as file:\n",
        "  lines = file.readlines()\n",
        "\n",
        "  result_1 = 0\n",
        "\n",
        "  for line in lines:\n",
        "      number_list = [char for char in line if char.isdigit()]\n",
        "\n",
        "      result_1 += int(number_list[0] + number_list[-1])\n",
        "\n",
        "  print(result_1)"
      ]
    },
    {
      "cell_type": "markdown",
      "metadata": {
        "id": "MkxMFyquf_7I"
      },
      "source": [
        "### Parte 2\n",
        " Your calculation isn't quite right. It looks like some of the digits are actually spelled out with letters: one, two, three, four, five, six, seven, eight, and nine also count as valid \"digits\"."
      ]
    },
    {
      "cell_type": "code",
      "execution_count": null,
      "metadata": {
        "colab": {
          "base_uri": "https://localhost:8080/"
        },
        "id": "gQQ3Uybdf-14",
        "outputId": "dba84099-a708-49cc-d882-f2c3d94deb6e"
      },
      "outputs": [
        {
          "name": "stdout",
          "output_type": "stream",
          "text": [
            "54581\n"
          ]
        }
      ],
      "source": [
        "spelt_numbers = ('one', 'two', 'three', 'four', 'five', 'six', 'seven', 'eight', 'nine')\n",
        "\n",
        "with open('./input_data/1.txt', 'r') as file:\n",
        "  lines = file.readlines()\n",
        "\n",
        "  result_2 = 0\n",
        "\n",
        "  for line in lines:\n",
        "    number_list = [(index, char) for index, char in enumerate(line) if char.isdigit()]\n",
        "\n",
        "    spelt_number_list = []\n",
        "    for number, spelt_number in enumerate(spelt_numbers, 1):\n",
        "      if spelt_number in line:\n",
        "        first_match_idx = line.find(spelt_number)\n",
        "        second_match_idx = line.rfind(spelt_number)\n",
        "\n",
        "        spelt_number_list.append((first_match_idx, str(number)))\n",
        "\n",
        "        if second_match_idx > first_match_idx:\n",
        "          spelt_number_list.append((second_match_idx, str(number)))\n",
        "\n",
        "    all_numbers = sorted(number_list + spelt_number_list, key=lambda x: x[0])\n",
        "\n",
        "    result_2 += int(all_numbers[0][1] + all_numbers[-1][1])\n",
        "\n",
        "  print(result_2)"
      ]
    },
    {
      "cell_type": "markdown",
      "metadata": {
        "id": "xinwO6c9A-a2"
      },
      "source": [
        "## Día 2\n"
      ]
    },
    {
      "cell_type": "markdown",
      "metadata": {
        "id": "oYvgUeVDUnoY"
      },
      "source": [
        "### Parte 1\n",
        "(...)\n",
        "As you walk, the Elf shows you a small bag and some cubes which are either red, green, or blue. Each time you play this game, he will hide a secret number of cubes of each color in the bag, and your goal is to figure out information about the number of cubes.\n",
        "\n",
        "To get information, once a bag has been loaded with cubes, the Elf will reach into the bag, grab a handful of random cubes, show them to you, and then put them back in the bag. He'll do this a few times per game.\n",
        "\n",
        "You play several games and record the information from each game (your puzzle input). Each game is listed with its ID number (like the 11 in Game 11: ...) followed by a semicolon-separated list of subsets of cubes that were revealed from the bag (like 3 red, 5 green, 4 blue).\n",
        "For example, the record of a few games might look like this:\n",
        "\n",
        "*   Game 1: 3 blue, 4 red; 1 red, 2 green, 6 blue; 2 green\n",
        "*   Game 2: 1 blue, 2 green; 3 green, 4 blue, 1 red; 1 green, 1 blue\n",
        "*   Game 3: 8 green, 6 blue, 20 red; 5 blue, 4 red, 13 green; 5 green, 1 red\n",
        "*   Game 4: 1 green, 3 red, 6 blue; 3 green, 6 red; 3 green, 15 blue, 14 red\n",
        "*   Game 5: 6 red, 1 blue, 3 green; 2 blue, 1 red, 2 green\n",
        "\n",
        "In game 1, three sets of cubes are revealed from the bag (and then put back again). The first set is 3 blue cubes and 4 red cubes; the second set is 1 red cube, 2 green cubes, and 6 blue cubes; the third set is only 2 green cubes.\n",
        "\n",
        "The Elf would first like to know which games would have been possible if the bag contained only 12 red cubes, 13 green cubes, and 14 blue cubes?\n",
        "\n",
        "In the example above, games 1, 2, and 5 would have been possible if the bag had been loaded with that configuration. However, game 3 would have been impossible because at one point the Elf showed you 20 red cubes at once; similarly, game 4 would also have been impossible because the Elf showed you 15 blue cubes at once. If you add up the IDs of the games that would have been possible, you get 8.\n",
        "\n",
        "Determine which games would have been possible if the bag had been loaded with only 12 red cubes, 13 green cubes, and 14 blue cubes. What is the sum of the IDs of those games?"
      ]
    },
    {
      "cell_type": "code",
      "execution_count": null,
      "metadata": {
        "colab": {
          "base_uri": "https://localhost:8080/"
        },
        "id": "O8DcTuOTD8nH",
        "outputId": "07b0162e-bffb-4ad7-b531-4efe80e76763"
      },
      "outputs": [
        {
          "name": "stdout",
          "output_type": "stream",
          "text": [
            "2439\n"
          ]
        }
      ],
      "source": [
        "AVAILABLE_COLORS = {'red': 12, 'green': 13, 'blue': 14}\n",
        "\n",
        "def validate_game_record(line):\n",
        "  separation = line.split(':')\n",
        "\n",
        "  game_id = int(separation[0].split()[-1])\n",
        "\n",
        "  raw_cube_sets = list(map(lambda x: list(map(lambda y: y.strip(), x.split(','))), separation[1].split(';')))\n",
        "\n",
        "  for cube_set in raw_cube_sets:\n",
        "    for cube_info in cube_set:\n",
        "      count, color = cube_info.split()\n",
        "\n",
        "      if int(count) > AVAILABLE_COLORS[color]:\n",
        "        return 0\n",
        "\n",
        "  return game_id\n",
        "\n",
        "\n",
        "with open('./input_data/2.txt', 'r') as file:\n",
        "  lines = file.readlines()\n",
        "\n",
        "  result1 = 0\n",
        "  for line in lines:\n",
        "    result1 += validate_game_record(line)\n",
        "\n",
        "  print(result1)\n"
      ]
    },
    {
      "cell_type": "markdown",
      "metadata": {
        "id": "irs2zUlCUwQC"
      },
      "source": [
        "### Parte 2\n",
        "The Elf says they've stopped producing snow because they aren't getting any water! He isn't sure why the water stopped; however, he can show you how to get to the water source to check it out for yourself. It's just up ahead!\n",
        "\n",
        "As you continue your walk, the Elf poses a second question: in each game you played, what is the fewest number of cubes of each color that could have been in the bag to make the game possible?\n",
        "\n",
        "Again consider the example games from earlier:\n",
        "\n",
        "*   Game 1: 3 blue, 4 red; 1 red, 2 green, 6 blue; 2 green\n",
        "*   Game 2: 1 blue, 2 green; 3 green, 4 blue, 1 red; 1 green, 1 blue\n",
        "*   Game 3: 8 green, 6 blue, 20 red; 5 blue, 4 red, 13 green; 5 green, 1 red\n",
        "*   Game 4: 1 green, 3 red, 6 blue; 3 green, 6 red; 3 green, 15 blue, 14 red\n",
        "*   Game 5: 6 red, 1 blue, 3 green; 2 blue, 1 red, 2 green\n",
        "\n",
        "The power of a set of cubes is equal to the numbers of red, green, and blue cubes multiplied together. The power of the minimum set of cubes in game 1 is 48. In games 2-5 it was 12, 1560, 630, and 36, respectively. Adding up these five powers produces the sum 2286.\n",
        "\n",
        "For each game, find the minimum set of cubes that must have been present. What is the sum of the power of these sets?"
      ]
    },
    {
      "cell_type": "code",
      "execution_count": null,
      "metadata": {
        "colab": {
          "base_uri": "https://localhost:8080/"
        },
        "id": "cM5O8kwtU7E7",
        "outputId": "ea8a210e-8155-4fae-9617-5e320a9dffc5"
      },
      "outputs": [
        {
          "name": "stdout",
          "output_type": "stream",
          "text": [
            "63711\n"
          ]
        }
      ],
      "source": [
        "AVAILABLE_COLORS = {'red': 12, 'green': 13, 'blue': 14}\n",
        "\n",
        "def get_game_record_power(line):\n",
        "  separation = line.split(':')\n",
        "\n",
        "  game_data = {color: 0 for color in AVAILABLE_COLORS.keys()}\n",
        "\n",
        "  raw_cube_sets = list(map(lambda x: list(map(lambda y: y.strip(), x.split(','))), separation[1].split(';')))\n",
        "\n",
        "  for cube_set in raw_cube_sets:\n",
        "    for cube_info in cube_set:\n",
        "      count, color = cube_info.split()\n",
        "\n",
        "      game_data[color] = max(game_data[color], int(count))\n",
        "\n",
        "  product = 1\n",
        "  for color_count in game_data.values():\n",
        "    product *= color_count\n",
        "\n",
        "  return product\n",
        "\n",
        "\n",
        "with open('./input_data/2.txt', 'r') as file:\n",
        "  lines = file.readlines()\n",
        "\n",
        "  result2 = 0\n",
        "  for line in lines:\n",
        "    result2 += get_game_record_power(line)\n",
        "\n",
        "  print(result2)\n"
      ]
    },
    {
      "cell_type": "markdown",
      "source": [
        "## Día 3"
      ],
      "metadata": {
        "id": "m1JDGpzbyoKf"
      }
    },
    {
      "cell_type": "markdown",
      "source": [
        "### Parte 1\n",
        "You and the Elf eventually reach a gondola lift station; he says the gondola lift will take you up to the water source, but this is as far as he can bring you. You go inside.\n",
        "\n",
        "It doesn't take long to find the gondolas, but there seems to be a problem: they're not moving.\n",
        "\n",
        "\"Aaah!\"\n",
        "\n",
        "You turn around to see a slightly-greasy Elf with a wrench and a look of surprise. \"Sorry, I wasn't expecting anyone! The gondola lift isn't working right now; it'll still be a while before I can fix it.\" You offer to help.\n",
        "\n",
        "The engineer explains that an engine part seems to be missing from the engine, but nobody can figure out which one. If you can add up all the part numbers in the engine schematic, it should be easy to work out which part is missing.\n",
        "\n",
        "The engine schematic (your puzzle input) consists of a visual representation of the engine. There are lots of numbers and symbols you don't really understand, but apparently any number adjacent to a symbol, even diagonally, is a \"part number\" and should be included in your sum. (Periods (.) do not count as a symbol.)\n",
        "\n",
        "[...]\n",
        "\n",
        "Of course, the actual engine schematic is much larger. What is the sum of all of the part numbers in the engine schematic?"
      ],
      "metadata": {
        "id": "6Hr5bFNQyrbQ"
      }
    },
    {
      "cell_type": "code",
      "source": [
        "DIRECTIONS = [\n",
        "  (0, 1),   # >\n",
        "  (1, 0),   # v\n",
        "  (0, -1),  # <\n",
        "  (-1, 0),  # ^\n",
        "  (1, 1),   # >v\n",
        "  (-1, -1), # <^\n",
        "  (-1, 1),  # ^>\n",
        "  (1, -1)   # v<\n",
        "]\n",
        "\n",
        "with open('./input_data/3.txt', 'r') as file:\n",
        "  lines = file.readlines()\n",
        "\n",
        "  digit_per_point = {}\n",
        "  symbol_points = []\n",
        "\n",
        "  y_bounds = len(lines)\n",
        "  x_bounds = len(lines[0])\n",
        "\n",
        "  def point_key(point):\n",
        "    return ','.join(map(str, point))\n",
        "\n",
        "  def inside_bounds(point):\n",
        "    return point[1] >= 0 < x_bounds and point[0] >= 0 < y_bounds\n",
        "\n",
        "  def get_complete_number(point):\n",
        "    number = digit_per_point[point_key(point)]\n",
        "    del digit_per_point[point_key(point)]\n",
        "\n",
        "    # <<<\n",
        "    left_point = (point[0], point[1] - 1)\n",
        "    while point_key(left_point) in digit_per_point:\n",
        "      number = digit_per_point[point_key(left_point)] + number\n",
        "      del digit_per_point[point_key(left_point)]\n",
        "\n",
        "      left_point = (left_point[0], left_point[1] - 1)\n",
        "\n",
        "    # >>>\n",
        "    right_point = (point[0], point[1] + 1)\n",
        "    while point_key(right_point) in digit_per_point:\n",
        "      number = number + digit_per_point[point_key(right_point)]\n",
        "      del digit_per_point[point_key(right_point)]\n",
        "\n",
        "      right_point = (right_point[0], right_point[1] + 1)\n",
        "\n",
        "    return int(number)\n",
        "\n",
        "  for y, line in enumerate(lines):\n",
        "    line = line.strip()\n",
        "\n",
        "    for x, char in enumerate(line):\n",
        "      if char != '.':\n",
        "        if char.isdigit():\n",
        "          digit_per_point[point_key((y, x))] = char\n",
        "        else:\n",
        "          symbol_points.append((y, x))\n",
        "\n",
        "  result1 = 0\n",
        "  for y, x in symbol_points:\n",
        "    for x_offset, y_offset in DIRECTIONS:\n",
        "      offset_point = (y + y_offset, x + x_offset)\n",
        "\n",
        "      if inside_bounds(offset_point):\n",
        "        if point_key(offset_point) in digit_per_point:\n",
        "          result1 += get_complete_number(offset_point)\n",
        "\n",
        "  print(result1)\n",
        "\n"
      ],
      "metadata": {
        "colab": {
          "base_uri": "https://localhost:8080/"
        },
        "id": "mGStaKbqyq0S",
        "outputId": "0658f8a1-2609-4be7-dc35-fcc9960dad3b"
      },
      "execution_count": null,
      "outputs": [
        {
          "output_type": "stream",
          "name": "stdout",
          "text": [
            "517021\n"
          ]
        }
      ]
    },
    {
      "cell_type": "markdown",
      "source": [
        "### Parte 2\n",
        "The engineer finds the missing part and installs it in the engine! As the engine springs to life, you jump in the closest gondola, finally ready to ascend to the water source.\n",
        "\n",
        "You don't seem to be going very fast, though. Maybe something is still wrong? Fortunately, the gondola has a phone labeled \"help\", so you pick it up and the engineer answers.\n",
        "\n",
        "Before you can explain the situation, she suggests that you look out the window. There stands the engineer, holding a phone in one hand and waving with the other. You're going so slowly that you haven't even left the station. You exit the gondola.\n",
        "\n",
        "The missing part wasn't the only issue - one of the gears in the engine is wrong. A gear is any * symbol that is adjacent to exactly two part numbers. Its gear ratio is the result of multiplying those two numbers together.\n",
        "\n",
        "This time, you need to find the gear ratio of every gear and add them all up so that the engineer can figure out which gear needs to be replaced.\n",
        "\n",
        "[...]\n",
        "\n",
        "What is the sum of all of the gear ratios in your engine schematic?"
      ],
      "metadata": {
        "id": "w1nNVtQvCGBc"
      }
    },
    {
      "cell_type": "code",
      "source": [
        "DIRECTIONS = [\n",
        "  (0, 1),   # >\n",
        "  (1, 0),   # v\n",
        "  (0, -1),  # <\n",
        "  (-1, 0),  # ^\n",
        "  (1, 1),   # >v\n",
        "  (-1, -1), # <^\n",
        "  (-1, 1),  # ^>\n",
        "  (1, -1)   # v<\n",
        "]\n",
        "\n",
        "with open('./input_data/3.txt', 'r') as file:\n",
        "  lines = file.readlines()\n",
        "\n",
        "  digit_per_point = {}\n",
        "  symbol_points = []\n",
        "\n",
        "  y_bounds = len(lines)\n",
        "  x_bounds = len(lines[0])\n",
        "\n",
        "  def point_key(point):\n",
        "    return ','.join(map(str, point))\n",
        "\n",
        "  def inside_bounds(point):\n",
        "    return point[1] >= 0 < x_bounds and point[0] >= 0 < y_bounds\n",
        "\n",
        "  def get_complete_number(point):\n",
        "    number = digit_per_point[point_key(point)]\n",
        "    del digit_per_point[point_key(point)]\n",
        "\n",
        "    # <<<\n",
        "    left_point = (point[0], point[1] - 1)\n",
        "    while point_key(left_point) in digit_per_point:\n",
        "      number = digit_per_point[point_key(left_point)] + number\n",
        "      del digit_per_point[point_key(left_point)]\n",
        "\n",
        "      left_point = (left_point[0], left_point[1] - 1)\n",
        "\n",
        "    # >>>\n",
        "    right_point = (point[0], point[1] + 1)\n",
        "    while point_key(right_point) in digit_per_point:\n",
        "      number = number + digit_per_point[point_key(right_point)]\n",
        "      del digit_per_point[point_key(right_point)]\n",
        "\n",
        "      right_point = (right_point[0], right_point[1] + 1)\n",
        "\n",
        "    return int(number)\n",
        "\n",
        "  for y, line in enumerate(lines):\n",
        "    line = line.strip()\n",
        "\n",
        "    for x, char in enumerate(line):\n",
        "      if char != '.':\n",
        "        if char.isdigit():\n",
        "          digit_per_point[point_key((y, x))] = char\n",
        "        else:\n",
        "          symbol_points.append((y, x))\n",
        "\n",
        "  result2 = 0\n",
        "  for y, x in symbol_points:\n",
        "    adjacent_to_symbol = []\n",
        "\n",
        "    for x_offset, y_offset in DIRECTIONS:\n",
        "      offset_point = (y + y_offset, x + x_offset)\n",
        "\n",
        "      if inside_bounds(offset_point):\n",
        "        if point_key(offset_point) in digit_per_point:\n",
        "          adjacent_to_symbol.append(get_complete_number(offset_point))\n",
        "\n",
        "    if len(adjacent_to_symbol) > 1:\n",
        "      mass_product = 1\n",
        "      for number in adjacent_to_symbol:\n",
        "        mass_product *= number\n",
        "\n",
        "      result2 += mass_product\n",
        "\n",
        "  print(result2)\n",
        "\n"
      ],
      "metadata": {
        "colab": {
          "base_uri": "https://localhost:8080/"
        },
        "id": "j8ZYjsYsCWzX",
        "outputId": "7c740556-cebb-4528-8821-673b2572c3f5"
      },
      "execution_count": null,
      "outputs": [
        {
          "output_type": "stream",
          "name": "stdout",
          "text": [
            "81296995\n"
          ]
        }
      ]
    },
    {
      "cell_type": "markdown",
      "source": [
        "## Día 4"
      ],
      "metadata": {
        "id": "xj5fM8QKehuf"
      }
    },
    {
      "cell_type": "markdown",
      "source": [
        "### Parte 1\n",
        "The gondola takes you up. Strangely, though, the ground doesn't seem to be coming with you; you're not climbing a mountain. As the circle of Snow Island recedes below you, an entire new landmass suddenly appears above you! The gondola carries you to the surface of the new island and lurches into the station.\n",
        "\n",
        "As you exit the gondola, the first thing you notice is that the air here is much warmer than it was on Snow Island. It's also quite humid. Is this where the water source is?\n",
        "\n",
        "The next thing you notice is an Elf sitting on the floor across the station in what seems to be a pile of colorful square cards.\n",
        "\n",
        "\"Oh! Hello!\" The Elf excitedly runs over to you. \"How may I be of service?\" You ask about water sources.\n",
        "\n",
        "\"I'm not sure; I just operate the gondola lift. That does sound like something we'd have, though - this is Island Island, after all! I bet the gardener would know. He's on a different island, though - er, the small kind surrounded by water, not the floating kind. We really need to come up with a better naming scheme. Tell you what: if you can help me with something quick, I'll let you borrow my boat and you can go visit the gardener. I got all these scratchcards as a gift, but I can't figure out what I've won.\"\n",
        "\n",
        "The Elf leads you over to the pile of colorful cards. There, you discover dozens of scratchcards, all with their opaque covering already scratched off. Picking one up, it looks like each card has two lists of numbers separated by a vertical bar (|): a list of winning numbers and then a list of numbers you have. You organize the information into a table (your puzzle input).\n",
        "\n",
        "As far as the Elf has been able to figure out, you have to figure out which of the numbers you have appear in the list of winning numbers. The first match makes the card worth one point and each match after the first doubles the point value of that card.\n",
        "\n",
        "[...]\n",
        "\n",
        "Take a seat in the large pile of colorful cards. How many points are they worth in total?"
      ],
      "metadata": {
        "id": "Qs0A5hc2emyL"
      }
    },
    {
      "cell_type": "code",
      "source": [
        "with open('./input_data/4.txt', 'r') as file:\n",
        "  lines = file.readlines()\n",
        "\n",
        "  result1 = 0\n",
        "  for line in lines:\n",
        "    separation = line.replace('\\x20\\x20','\\x20').split(':')\n",
        "    card_id = separation[0].split()[-1]\n",
        "\n",
        "    winning_numbers, my_numbers = list(map(lambda x: x.split(), separation[1].split('|')))\n",
        "\n",
        "    match_points = 0\n",
        "    for number in winning_numbers:\n",
        "      if number in my_numbers:\n",
        "        if match_points > 0:\n",
        "          match_points *= 2\n",
        "        else:\n",
        "          match_points = 1\n",
        "\n",
        "    result1 += match_points\n",
        "\n",
        "  print(result1)\n"
      ],
      "metadata": {
        "colab": {
          "base_uri": "https://localhost:8080/"
        },
        "id": "VM2R5YwZelB_",
        "outputId": "e4afb8c1-b686-4cfc-dda1-f4279823d06d"
      },
      "execution_count": null,
      "outputs": [
        {
          "output_type": "stream",
          "name": "stdout",
          "text": [
            "18519\n"
          ]
        }
      ]
    },
    {
      "cell_type": "markdown",
      "source": [
        "### Parte 2\n",
        "Just as you're about to report your findings to the Elf, one of you realizes that the rules have actually been printed on the back of every card this whole time.\n",
        "\n",
        "There's no such thing as \"points\". Instead, scratchcards only cause you to win more scratchcards equal to the number of winning numbers you have.\n",
        "\n",
        "Specifically, you win copies of the scratchcards below the winning card equal to the number of matches. So, if card 10 were to have 5 matching numbers, you would win one copy each of cards 11, 12, 13, 14, and 15.\n",
        "\n",
        "Copies of scratchcards are scored like normal scratchcards and have the same card number as the card they copied. So, if you win a copy of card 10 and it has 5 matching numbers, it would then win a copy of the same cards that the original card 10 won: cards 11, 12, 13, 14, and 15. This process repeats until none of the copies cause you to win any more cards. (Cards will never make you copy a card past the end of the table.)\n",
        "\n",
        "[...]\n",
        "\n",
        "Process all of the original and copied scratchcards until no more scratchcards are won. Including the original set of scratchcards, how many total scratchcards do you end up with?"
      ],
      "metadata": {
        "id": "BSuyD2JpAhFv"
      }
    },
    {
      "cell_type": "code",
      "source": [
        "with open('./input_data/4.txt', 'r') as file:\n",
        "  lines = file.readlines()\n",
        "\n",
        "  copies_per_card = [1] * len(lines) # card existence means 1 okk\n",
        "\n",
        "  for i, line in enumerate(lines):\n",
        "    separation = line.replace('\\x20\\x20','\\x20').split(':')\n",
        "    card_id = separation[0].split()[-1]\n",
        "\n",
        "    winning_numbers, my_numbers = list(map(lambda x: x.split(), separation[1].split('|')))\n",
        "\n",
        "    card_id_offset = 0\n",
        "    for number in winning_numbers:\n",
        "      if number in my_numbers:\n",
        "        card_id_offset += 1\n",
        "\n",
        "        for _ in range(copies_per_card[i]): # =1 original | >1 = copy\n",
        "          copies_per_card[i + card_id_offset] += 1\n",
        "\n",
        "  result2 = sum(copies_per_card)\n",
        "  print(result2)\n"
      ],
      "metadata": {
        "colab": {
          "base_uri": "https://localhost:8080/"
        },
        "id": "Qvanlm9MpInd",
        "outputId": "0db5ce13-83a6-4a00-edbf-a3c3019f3641"
      },
      "execution_count": null,
      "outputs": [
        {
          "output_type": "stream",
          "name": "stdout",
          "text": [
            "11787590\n"
          ]
        }
      ]
    },
    {
      "cell_type": "markdown",
      "source": [
        "## Día 5"
      ],
      "metadata": {
        "id": "VoKBcSbMcIhE"
      }
    },
    {
      "cell_type": "markdown",
      "source": [
        "### Parte 1\n",
        "You take the boat and find the gardener right where you were told he would be: managing a giant \"garden\" that looks more to you like a farm.\n",
        "\n",
        "\"A water source? Island Island is the water source!\" You point out that Snow Island isn't receiving any water.\n",
        "\n",
        "\"Oh, we had to stop the water because we ran out of sand to filter it with! Can't make snow with dirty water. Don't worry, I'm sure we'll get more sand soon; we only turned off the water a few days... weeks... oh no.\" His face sinks into a look of horrified realization.\n",
        "\n",
        "\"I've been so busy making sure everyone here has food that I completely forgot to check why we stopped getting more sand! There's a ferry leaving soon that is headed over in that direction - it's much faster than your boat. Could you please go check it out?\"\n",
        "\n",
        "You barely have time to agree to this request when he brings up another. \"While you wait for the ferry, maybe you can help us with our food production problem. The latest Island Island Almanac just arrived and we're having trouble making sense of it.\"\n",
        "\n",
        "The almanac (your puzzle input) lists all of the seeds that need to be planted. It also lists what type of soil to use with each kind of seed, what type of fertilizer to use with each kind of soil, what type of water to use with each kind of fertilizer, and so on. Every type of seed, soil, fertilizer and so on is identified with a number, but numbers are reused by each category - that is, soil 123 and fertilizer 123 aren't necessarily related to each other.\n",
        "\n",
        "[...]\n",
        "\n",
        "The rest of the almanac contains a list of maps which describe how to convert numbers from a source category into numbers in a destination category. That is, the section that starts with seed-to-soil map: describes how to convert a seed number (the source) to a soil number (the destination). This lets the gardener and his team know which soil to use with which seeds, which water to use with which fertilizer, and so on.\n",
        "\n",
        "Rather than list every source number and its corresponding destination number one by one, the maps describe entire ranges of numbers that can be converted. Each line within a map contains three numbers: the destination range start, the source range start, and the range length.\n",
        "\n",
        "[...]\n",
        "\n",
        "Any source numbers that aren't mapped correspond to the same destination number. So, seed number 10 corresponds to soil number 10.\n",
        "\n",
        "[...]\n",
        "\n",
        "What is the lowest location number that corresponds to any of the initial seed numbers?"
      ],
      "metadata": {
        "id": "MkvJUNSNcKrV"
      }
    },
    {
      "cell_type": "code",
      "source": [
        "with open('./input_data/5.txt', 'r') as file:\n",
        "  raw_seeds, *raw_maps = list(map(lambda x: x.split(':')[1], file.read().split('\\n\\n')))\n",
        "\n",
        "  seeds = list(map(int, raw_seeds.split()))\n",
        "  maps_per_step = list(map(lambda gardens: list(map(lambda ranges: list(map(int, ranges.split())), gardens.strip().split('\\n'))), raw_maps))\n",
        "\n",
        "  def get_seed_location(seed_id):\n",
        "    # seed>>soil>>fertilizer>>water>>light>>temperature>>humidity>>location\n",
        "    # if not in range: variable = variable\n",
        "    variable = seed_id\n",
        "\n",
        "    for step_ranges in maps_per_step:\n",
        "      for destination, source, range in step_ranges:\n",
        "        if source <= variable < source + range:\n",
        "          variable = variable + destination - source\n",
        "          break\n",
        "\n",
        "    return variable\n",
        "\n",
        "  result1 = min(list(map(get_seed_location, seeds)))\n",
        "  print(result1)\n"
      ],
      "metadata": {
        "colab": {
          "base_uri": "https://localhost:8080/"
        },
        "id": "dFihKMSVcdDP",
        "outputId": "34258fba-c11d-413a-a918-36949b26f070"
      },
      "execution_count": null,
      "outputs": [
        {
          "output_type": "stream",
          "name": "stdout",
          "text": [
            "240320250\n"
          ]
        }
      ]
    },
    {
      "cell_type": "markdown",
      "source": [
        "### Parte 2\n",
        "Everyone will starve if you only plant such a small number of seeds. Re-reading the almanac, it looks like the seeds: line actually describes ranges of seed numbers.\n",
        "\n",
        "The values on the initial seeds: line come in pairs. Within each pair, the first value is the start of the range and the second value is the length of the range.\n",
        "\n",
        "[...]\n",
        "\n",
        "Consider all of the initial seed numbers listed in the ranges on the first line of the almanac. What is the lowest location number that corresponds to any of the initial seed numbers?"
      ],
      "metadata": {
        "id": "BfafIosikPub"
      }
    },
    {
      "cell_type": "code",
      "source": [
        "with open('./input_data/5.txt', 'r') as file:\n",
        "  raw_seeds, *raw_maps = list(map(lambda x: x.split(':')[1], file.read().split('\\n\\n')))\n",
        "\n",
        "  seeds = list(map(int, raw_seeds.split()))\n",
        "  seed_ranges = [(seeds[i], seeds[i + 1]) for i in range(0, len(seeds), 2)]\n",
        "\n",
        "  def get_seed_location(seed_id):\n",
        "    # seed>>soil>>fertilizer>>water>>light>>temperature>>humidity>>location\n",
        "    # if not in range: variable = variable\n",
        "    variable = seed_id\n",
        "\n",
        "    for step_ranges in maps_per_step:\n",
        "      for destination, source, range in step_ranges:\n",
        "        if source <= variable < source + range:\n",
        "          variable = variable + destination - source\n",
        "          break\n",
        "\n",
        "    return variable\n",
        "\n",
        "  # I'm done, bruteforced...\n",
        "  result2 = float('inf')\n",
        "  for seed_start, seed_end in seed_ranges:\n",
        "    print(seed_start, '-', seed_start + seed_end)\n",
        "\n",
        "    curr_seed_id = seed_start\n",
        "    while curr_seed_id <= seed_start + seed_end:\n",
        "      result2 = min(result2, get_seed_location(curr_seed_id))\n",
        "      curr_seed_id += 1\n",
        "\n",
        "  print(result2)\n"
      ],
      "metadata": {
        "colab": {
          "base_uri": "https://localhost:8080/"
        },
        "id": "OwCV8Iw0kPVZ",
        "outputId": "8090434c-9421-49b6-c396-a6106563d3a0"
      },
      "execution_count": null,
      "outputs": [
        {
          "output_type": "stream",
          "name": "stdout",
          "text": [
            "3429320627 - 3664624663\n",
            "1147330745 - 1261889990\n",
            "1684000747 - 2152956648\n",
            "677937579 - 774537084\n",
            "1436970021 - 1463530123\n",
            "3886049334 - 4045584235\n",
            "936845926 - 962110935\n",
            "3247146679 - 3342988331\n",
            "3696363517 - 3742172089\n",
            "2319065313 - 2445015461\n",
            "28580589\n"
          ]
        }
      ]
    },
    {
      "cell_type": "markdown",
      "source": [
        "## Día 6"
      ],
      "metadata": {
        "id": "u3CDAqIVLRom"
      }
    },
    {
      "cell_type": "markdown",
      "source": [
        "### Parte 1\n",
        "The ferry quickly brings you across Island Island. After asking around, you discover that there is indeed normally a large pile of sand somewhere near here, but you don't see anything besides lots of water and the small island where the ferry has docked.\n",
        "\n",
        "As you try to figure out what to do next, you notice a poster on a wall near the ferry dock. \"Boat races! Open to the public! Grand prize is an all-expenses-paid trip to Desert Island!\" That must be where the sand comes from! Best of all, the boat races are starting in just a few minutes.\n",
        "\n",
        "You manage to sign up as a competitor in the boat races just in time. The organizer explains that it's not really a traditional race - instead, you will get a fixed amount of time during which your boat has to travel as far as it can, and you win if your boat goes the farthest.\n",
        "\n",
        "As part of signing up, you get a sheet of paper (your puzzle input) that lists the time allowed for each race and also the best distance ever recorded in that race. To guarantee you win the grand prize, you need to make sure you go farther in each race than the current record holder.\n",
        "\n",
        "The organizer brings you over to the area where the boat races are held. The boats are much smaller than you expected - they're actually toy boats, each with a big button on top. Holding down the button charges the boat, and releasing the button allows the boat to move. Boats move faster if their button was held longer, but time spent holding the button counts against the total race time. You can only hold the button at the start of the race, and boats don't move until the button is released.\n",
        "\n",
        "[...]\n",
        "\n",
        "Determine the number of ways you could beat the record in each race. What do you get if you multiply these numbers together?"
      ],
      "metadata": {
        "id": "GniQkJYJLUmk"
      }
    },
    {
      "cell_type": "code",
      "source": [
        "with open('./input_data/6.txt', 'r') as file:\n",
        "  lines = file.readlines()\n",
        "\n",
        "  durations = list(map(int, lines[0].split(':')[1].split()))\n",
        "  records = list(map(int, lines[1].split(':')[1].split()))\n",
        "\n",
        "  total_ways = 1\n",
        "\n",
        "  for total_time, record_distance in list(zip(durations, records)):\n",
        "    race_ways = 0\n",
        "\n",
        "    for time in range(1, total_time):\n",
        "      traveled_millimetres = (total_time - time) * time\n",
        "\n",
        "      if traveled_millimetres > record_distance:\n",
        "        race_ways += 1\n",
        "\n",
        "    total_ways *= race_ways\n",
        "\n",
        "  print(total_ways)\n"
      ],
      "metadata": {
        "colab": {
          "base_uri": "https://localhost:8080/"
        },
        "id": "ivWPKmRQLrGK",
        "outputId": "71ba01d1-af55-47f1-bb8d-8665239d55b7"
      },
      "execution_count": null,
      "outputs": [
        {
          "output_type": "stream",
          "name": "stdout",
          "text": [
            "449820\n"
          ]
        }
      ]
    },
    {
      "cell_type": "markdown",
      "source": [
        "### Parte 2\n",
        "As the race is about to start, you realize the piece of paper with race times and record distances you got earlier actually just has very bad kerning. There's really only one race - ignore the spaces between the numbers on each line.\n",
        "\n",
        "[...]\n",
        "\n",
        "How many ways can you beat the record in this one much longer race?"
      ],
      "metadata": {
        "id": "VTFm8eHqScBj"
      }
    },
    {
      "cell_type": "code",
      "source": [
        "with open('./input_data/6.txt', 'r') as file:\n",
        "  lines = file.readlines()\n",
        "\n",
        "  duration = int(''.join(lines[0].split(':')[1].split()))\n",
        "  record = int(''.join(lines[1].split(':')[1].split()))\n",
        "\n",
        "  race_ways = 0\n",
        "\n",
        "  # sure not the best way (?)\n",
        "  for time in range(duration):\n",
        "    traveled_millimetres = (duration - time) * time\n",
        "\n",
        "    if traveled_millimetres > record:\n",
        "      race_ways += 1\n",
        "\n",
        "  print(race_ways)\n"
      ],
      "metadata": {
        "colab": {
          "base_uri": "https://localhost:8080/"
        },
        "id": "aA1nN16rSkWj",
        "outputId": "d76b1944-79a8-47a3-d215-71bf990011f4"
      },
      "execution_count": null,
      "outputs": [
        {
          "output_type": "stream",
          "name": "stdout",
          "text": [
            "42250895\n"
          ]
        }
      ]
    },
    {
      "cell_type": "markdown",
      "source": [
        "## Día 7"
      ],
      "metadata": {
        "id": "sSOW0kwENk-k"
      }
    },
    {
      "cell_type": "markdown",
      "source": [
        "### Parte 1\n",
        "Your all-expenses-paid trip turns out to be a one-way, five-minute ride in an airship. (At least it's a cool airship!) It drops you off at the edge of a vast desert and descends back to Island Island.\n",
        "\n",
        "\"Did you bring the parts?\"\n",
        "\n",
        "You turn around to see an Elf completely covered in white clothing, wearing goggles, and riding a large camel.\n",
        "\n",
        "\"Did you bring the parts?\" she asks again, louder this time. You aren't sure what parts she's looking for; you're here to figure out why the sand stopped.\n",
        "\n",
        "\"The parts! For the sand, yes! Come with me; I will show you.\" She beckons you onto the camel.\n",
        "\n",
        "After riding a bit across the sands of Desert Island, you can see what look like very large rocks covering half of the horizon. The Elf explains that the rocks are all along the part of Desert Island that is directly above Island Island, making it hard to even get there. Normally, they use big machines to move the rocks and filter the sand, but the machines have broken down because Desert Island recently stopped receiving the parts they need to fix the machines.\n",
        "\n",
        "You've already assumed it'll be your job to figure out why the parts stopped when she asks if you can help. You agree automatically.\n",
        "\n",
        "Because the journey will take a few days, she offers to teach you the game of Camel Cards. Camel Cards is sort of similar to poker except it's designed to be easier to play while riding a camel.\n",
        "\n",
        "In Camel Cards, you get a list of hands, and your goal is to order them based on the strength of each hand. A hand consists of five cards labeled one of A, K, Q, J, T, 9, 8, 7, 6, 5, 4, 3, or 2. The relative strength of each card follows this order, where A is the highest and 2 is the lowest.\n",
        "\n",
        "Every hand is exactly one type. From strongest to weakest, they are:\n",
        "\n",
        "Five of a kind, where all five cards have the same label: AAAAA\n",
        "Four of a kind, where four cards have the same label and one card has a different label: AA8AA\n",
        "Full house, where three cards have the same label, and the remaining two cards share a different label: 23332\n",
        "Three of a kind, where three cards have the same label, and the remaining two cards are each different from any other card in the hand: TTT98\n",
        "Two pair, where two cards share one label, two other cards share a second label, and the remaining card has a third label: 23432\n",
        "One pair, where two cards share one label, and the other three cards have a different label from the pair and each other: A23A4\n",
        "High card, where all cards' labels are distinct: 23456\n",
        "Hands are primarily ordered based on type; for example, every full house is stronger than any three of a kind.\n",
        "\n",
        "If two hands have the same type, a second ordering rule takes effect. Start by comparing the first card in each hand. If these cards are different, the hand with the stronger first card is considered stronger. If the first card in each hand have the same label, however, then move on to considering the second card in each hand. If they differ, the hand with the higher second card wins; otherwise, continue with the third card in each hand, then the fourth, then the fifth.\n",
        "\n",
        "[...]\n",
        "\n",
        "Find the rank of every hand in your set. What are the total winnings?"
      ],
      "metadata": {
        "id": "wsQnDFOpNpat"
      }
    },
    {
      "cell_type": "code",
      "source": [
        "from functools import cmp_to_key\n",
        "\n",
        "cards_power = '23456789TJQKA'\n",
        "\n",
        "with open('./input_data/7.txt', 'r') as file:\n",
        "  lines = file.readlines()\n",
        "  hands = list(map(lambda hand: (hand[0], int(hand[1])), map(lambda line: line.split(), lines)))\n",
        "\n",
        "  def determine_type(cards):\n",
        "    label_count = {label: cards.count(label) for label in cards}\n",
        "\n",
        "    count_values = list(label_count.values())\n",
        "\n",
        "    if max(count_values) == 1:\n",
        "      return 0 # high card\n",
        "\n",
        "    if max(count_values) == 2:\n",
        "      return count_values.count(2) # one_pair or two_pair\n",
        "\n",
        "    if max(count_values) == 3:\n",
        "      return 3 + count_values.count(2) # three_kind or full_house\n",
        "\n",
        "    if max(count_values) == 4:\n",
        "      return 5 # four_kind\n",
        "\n",
        "    return 6 # five_kind\n",
        "\n",
        "  def cmp_hands(hand1, hand2):\n",
        "    cards1, bid1 = hand1\n",
        "    cards2, bid2 = hand2\n",
        "\n",
        "    cards1_type = determine_type(cards1)\n",
        "    cards2_type = determine_type(cards2)\n",
        "\n",
        "    if cards1_type > cards2_type:\n",
        "      return 1\n",
        "\n",
        "    if cards1_type < cards2_type:\n",
        "      return -1\n",
        "\n",
        "    for card_idx in range(5):\n",
        "      card1 = cards1[card_idx]\n",
        "      card2 = cards2[card_idx]\n",
        "\n",
        "      if card1 != card2:\n",
        "        card1_power = cards_power.index(card1)\n",
        "        card2_power = cards_power.index(card2)\n",
        "\n",
        "        if card1_power > card2_power:\n",
        "          return 1\n",
        "\n",
        "        if card1_power < card2_power:\n",
        "          return -1\n",
        "\n",
        "    return 0\n",
        "\n",
        "  hands.sort(key=cmp_to_key(cmp_hands))\n",
        "\n",
        "  result1 = sum(map(lambda x: x[0] * x[1][1], enumerate(hands, 1)))\n",
        "\n",
        "  print(result1)\n"
      ],
      "metadata": {
        "colab": {
          "base_uri": "https://localhost:8080/"
        },
        "id": "xZxsFFM7Nntu",
        "outputId": "f2f17b20-cfa0-4832-eb56-a6c11788aa4e"
      },
      "execution_count": null,
      "outputs": [
        {
          "output_type": "stream",
          "name": "stdout",
          "text": [
            "251136060\n"
          ]
        }
      ]
    },
    {
      "cell_type": "markdown",
      "source": [
        "### Parte 2\n",
        "To make things a little more interesting, the Elf introduces one additional rule. Now, J cards are jokers - wildcards that can act like whatever card would make the hand the strongest type possible.\n",
        "\n",
        "To balance this, J cards are now the weakest individual cards, weaker even than 2. The other cards stay in the same order: A, K, Q, T, 9, 8, 7, 6, 5, 4, 3, 2, J.\n",
        "\n",
        "J cards can pretend to be whatever card is best for the purpose of determining hand type; for example, QJJQ2 is now considered four of a kind. However, for the purpose of breaking ties between two hands of the same type, J is always treated as J, not the card it's pretending to be: JKKK2 is weaker than QQQQ2 because J is weaker than Q.\n",
        "\n",
        "[...]\n",
        "\n",
        "Using the new joker rule, find the rank of every hand in your set. What are the new total winnings?"
      ],
      "metadata": {
        "id": "YlU1M--ifVVy"
      }
    },
    {
      "cell_type": "code",
      "source": [
        "from functools import cmp_to_key\n",
        "\n",
        "cards_power = 'J23456789TQKA'\n",
        "\n",
        "with open('./input_data/7.txt', 'r') as file:\n",
        "  lines = file.readlines()\n",
        "  hands = list(map(lambda hand: (hand[0], int(hand[1])), map(lambda line: line.split(), lines)))\n",
        "\n",
        "  def determine_type(cards):\n",
        "    if \"J\" in cards and cards.count(\"J\") < 5: # there's a JJJJJ lol\n",
        "      most_repeated_card = max(cards.replace(\"J\", \"\"), key=lambda card: cards.count(card)) # fallback [0]\n",
        "      cards = cards.replace(\"J\", most_repeated_card)\n",
        "\n",
        "    card_count = {card: cards.count(card) for card in cards}\n",
        "\n",
        "    count_values = list(card_count.values())\n",
        "\n",
        "    if max(count_values) == 1:\n",
        "      return 0 # high card\n",
        "\n",
        "    if max(count_values) == 2:\n",
        "      return count_values.count(2) # one_pair or two_pair\n",
        "\n",
        "    if max(count_values) == 3:\n",
        "      return 3 + count_values.count(2) # three_kind or full_house\n",
        "\n",
        "    if max(count_values) == 4:\n",
        "      return 5 # four_kind\n",
        "\n",
        "    return 6 # five_kind\n",
        "\n",
        "  def cmp_hands(hand1, hand2):\n",
        "    cards1, bid1 = hand1\n",
        "    cards2, bid2 = hand2\n",
        "\n",
        "    cards1_type = determine_type(cards1)\n",
        "    cards2_type = determine_type(cards2)\n",
        "\n",
        "    if cards1_type > cards2_type:\n",
        "      return 1\n",
        "\n",
        "    if cards1_type < cards2_type:\n",
        "      return -1\n",
        "\n",
        "    for card_idx in range(5):\n",
        "      card1 = cards1[card_idx]\n",
        "      card2 = cards2[card_idx]\n",
        "\n",
        "      if card1 != card2:\n",
        "        card1_power = cards_power.index(card1)\n",
        "        card2_power = cards_power.index(card2)\n",
        "\n",
        "        if card1_power > card2_power:\n",
        "          return 1\n",
        "\n",
        "        if card1_power < card2_power:\n",
        "          return -1\n",
        "\n",
        "    return 0\n",
        "\n",
        "  hands.sort(key=cmp_to_key(cmp_hands))\n",
        "\n",
        "  result2 = sum(map(lambda x: x[0] * x[1][1], enumerate(hands, 1)))\n",
        "\n",
        "  print(result2)\n"
      ],
      "metadata": {
        "colab": {
          "base_uri": "https://localhost:8080/"
        },
        "id": "0j9UdLsT8ukw",
        "outputId": "72320a81-9df9-42d4-a8ed-dc691bd7a421"
      },
      "execution_count": null,
      "outputs": [
        {
          "output_type": "stream",
          "name": "stdout",
          "text": [
            "249400220\n"
          ]
        }
      ]
    },
    {
      "cell_type": "markdown",
      "source": [
        "## Día 8"
      ],
      "metadata": {
        "id": "C3FUZzAqH19a"
      }
    },
    {
      "cell_type": "markdown",
      "source": [
        "### Parte 1\n",
        "You're still riding a camel across Desert Island when you spot a sandstorm quickly approaching. When you turn to warn the Elf, she disappears before your eyes! To be fair, she had just finished warning you about ghosts a few minutes ago.\n",
        "\n",
        "One of the camel's pouches is labeled \"maps\" - sure enough, it's full of documents (your puzzle input) about how to navigate the desert. At least, you're pretty sure that's what they are; one of the documents contains a list of left/right instructions, and the rest of the documents seem to describe some kind of network of labeled nodes.\n",
        "\n",
        "It seems like you're meant to use the left/right instructions to navigate the network. Perhaps if you have the camel follow the same instructions, you can escape the haunted wasteland!\n",
        "\n",
        "After examining the maps for a bit, two nodes stick out: AAA and ZZZ. You feel like AAA is where you are now, and you have to follow the left/right instructions until you reach ZZZ.\n",
        "\n",
        "This format defines each node of the network individually.\n",
        "\n",
        "[...]\n",
        "\n",
        "Starting at AAA, follow the left/right instructions. How many steps are required to reach ZZZ?"
      ],
      "metadata": {
        "id": "BeKe7wskH3-s"
      }
    },
    {
      "cell_type": "code",
      "source": [
        "import re\n",
        "\n",
        "with open('./input_data/8.txt', 'r') as file:\n",
        "  pattern, raw_nodes = file.read().split('\\n\\n')\n",
        "\n",
        "  start_node = 'AAA'\n",
        "  end_node = 'ZZZ'\n",
        "  nodes = {node[0]: node[1:] for node in map(lambda nodes: re.search(r'^([A-Za-z0-9]+)\\s=\\s\\(([A-Za-z0-9]+),\\s([A-Za-z0-9]+)\\)$', nodes).groups(), raw_nodes.split('\\n'))}\n",
        "\n",
        "  def calc_next_idx(idx):\n",
        "    return idx + 1 if idx + 1 < len(pattern) else 0\n",
        "\n",
        "  def get_direction_idx(dir):\n",
        "    return 'LR'.index(dir)\n",
        "\n",
        "  pattern_idx = 0\n",
        "  current_node = start_node\n",
        "  result1 = 0\n",
        "\n",
        "  while current_node != end_node:\n",
        "    next_direction = pattern[pattern_idx]\n",
        "    current_node = nodes[current_node][get_direction_idx(next_direction)]\n",
        "\n",
        "    pattern_idx = calc_next_idx(pattern_idx)\n",
        "    result1 += 1\n",
        "\n",
        "  print(result1)\n"
      ],
      "metadata": {
        "colab": {
          "base_uri": "https://localhost:8080/"
        },
        "id": "GxkPrv-UIFbv",
        "outputId": "2ca0c188-2028-45ae-fe58-1c9a83e8a1de"
      },
      "execution_count": 14,
      "outputs": [
        {
          "output_type": "stream",
          "name": "stdout",
          "text": [
            "13301\n"
          ]
        }
      ]
    },
    {
      "cell_type": "markdown",
      "source": [
        "### Parte 2\n",
        "he sandstorm is upon you and you aren't any closer to escaping the wasteland. You had the camel follow the instructions, but you've barely left your starting position. It's going to take significantly more steps to escape!\n",
        "\n",
        "What if the map isn't for people - what if the map is for ghosts? Are ghosts even bound by the laws of spacetime? Only one way to find out.\n",
        "\n",
        "After examining the maps a bit longer, your attention is drawn to a curious fact: the number of nodes with names ending in A is equal to the number ending in Z! If you were a ghost, you'd probably just start at every node that ends with A and follow all of the paths at the same time until they all simultaneously end up at nodes that end with Z.\n",
        "\n",
        "[...]\n",
        "\n",
        "Simultaneously start on every node that ends with A. How many steps does it take before you're only on nodes that end with Z?"
      ],
      "metadata": {
        "id": "FgVZtsn7NYRh"
      }
    },
    {
      "cell_type": "code",
      "source": [
        "import re\n",
        "from math import lcm\n",
        "\n",
        "with open('./input_data/8.txt', 'r') as file:\n",
        "  pattern, raw_nodes = file.read().split('\\n\\n')\n",
        "\n",
        "  parsed_nodes = list(map(lambda nodes: re.search(r'^([A-Za-z0-9]+)\\s=\\s\\(([A-Za-z0-9]+),\\s([A-Za-z0-9]+)\\)$', nodes).groups(), raw_nodes.split('\\n')))\n",
        "  nodes = {node[0]: node[1:] for node in parsed_nodes}\n",
        "\n",
        "  def calc_next_idx(idx):\n",
        "    return idx + 1 if idx + 1 < len(pattern) else 0\n",
        "\n",
        "  def get_direction_idx(dir):\n",
        "    return 'LR'.index(dir)\n",
        "\n",
        "  a_nodes = list(map(lambda y: y[0], filter(lambda x: x[0].endswith('A'), parsed_nodes)))\n",
        "  steps_per_node = []\n",
        "\n",
        "  pattern_idx = 0\n",
        "  general_steps = 0 # 1 step for all nodes step\n",
        "\n",
        "  while len(steps_per_node) != len(a_nodes):\n",
        "    next_direction_idx = get_direction_idx(pattern[pattern_idx])\n",
        "\n",
        "    for idx, current_node in enumerate(a_nodes):\n",
        "      if not current_node.endswith('Z'):\n",
        "        a_nodes[idx] = nodes[current_node][next_direction_idx]\n",
        "\n",
        "        if a_nodes[idx].endswith('Z'):\n",
        "          steps_per_node.append(general_steps + 1)\n",
        "\n",
        "    pattern_idx = calc_next_idx(pattern_idx)\n",
        "    general_steps += 1\n",
        "\n",
        "  result2 = lcm(*steps_per_node)\n",
        "  print(result2)\n"
      ],
      "metadata": {
        "colab": {
          "base_uri": "https://localhost:8080/"
        },
        "id": "XSX9PP0iNX3h",
        "outputId": "d6ba97ff-68d0-4cba-d7ff-c783816ccc39"
      },
      "execution_count": 16,
      "outputs": [
        {
          "output_type": "stream",
          "name": "stdout",
          "text": [
            "7309459565207\n"
          ]
        }
      ]
    }
  ],
  "metadata": {
    "colab": {
      "collapsed_sections": [
        "3GXGxguVfUYi",
        "D2PhqQP6CQUm",
        "xinwO6c9A-a2",
        "m1JDGpzbyoKf",
        "xj5fM8QKehuf",
        "VoKBcSbMcIhE",
        "u3CDAqIVLRom",
        "sSOW0kwENk-k"
      ],
      "provenance": []
    },
    "kernelspec": {
      "display_name": "Python 3",
      "name": "python3"
    },
    "language_info": {
      "codemirror_mode": {
        "name": "ipython",
        "version": 3
      },
      "file_extension": ".py",
      "mimetype": "text/x-python",
      "name": "python",
      "nbconvert_exporter": "python",
      "pygments_lexer": "ipython3",
      "version": "3.11.4"
    }
  },
  "nbformat": 4,
  "nbformat_minor": 0
}