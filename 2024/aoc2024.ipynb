{
  "nbformat": 4,
  "nbformat_minor": 0,
  "metadata": {
    "colab": {
      "provenance": []
    },
    "kernelspec": {
      "name": "python3",
      "display_name": "Python 3"
    },
    "language_info": {
      "name": "python"
    }
  },
  "cells": [
    {
      "cell_type": "markdown",
      "source": [
        "# Advent of Code 2024"
      ],
      "metadata": {
        "id": "zjC19ZC3Ox9v"
      }
    },
    {
      "cell_type": "markdown",
      "source": [
        "## Day 1"
      ],
      "metadata": {
        "id": "QOdQZNEUO0qv"
      }
    },
    {
      "cell_type": "markdown",
      "source": [
        "### Part 1"
      ],
      "metadata": {
        "id": "oqTeEzt8VJVp"
      }
    },
    {
      "cell_type": "markdown",
      "source": [
        "The Chief Historian is always present for the big Christmas sleigh launch, but nobody has seen him in months! Last anyone heard, he was visiting locations that are historically significant to the North Pole; a group of Senior Historians has asked you to accompany them as they check the places they think he was most likely to visit.\n",
        "\n",
        "As each location is checked, they will mark it on their list with a star. They figure the Chief Historian must be in one of the first fifty places they'll look, so in order to save Christmas, you need to help them get fifty stars on their list before Santa takes off on December 25th.\n",
        "\n",
        "Collect stars by solving puzzles. Two puzzles will be made available on each day in the Advent calendar; the second puzzle is unlocked when you complete the first. Each puzzle grants one star. Good luck!\n",
        "\n",
        "You haven't even left yet and the group of Elvish Senior Historians has already hit a problem: their list of locations to check is currently empty. Eventually, someone decides that the best place to check first would be the Chief Historian's office.\n",
        "\n",
        "Upon pouring into the office, everyone confirms that the Chief Historian is indeed nowhere to be found. Instead, the Elves discover an assortment of notes and lists of historically significant locations! This seems to be the planning the Chief Historian was doing before he left. Perhaps these notes can be used to determine which locations to search?\n",
        "\n",
        "Throughout the Chief's office, the historically significant locations are listed not by name but by a unique number called the location ID. To make sure they don't miss anything, The Historians split into two groups, each searching the office and trying to create their own complete list of location IDs.\n",
        "\n",
        "There's just one problem: by holding the two lists up side by side (your puzzle input), it quickly becomes clear that the lists aren't very similar. Maybe you can help The Historians reconcile their lists?\n",
        "\n",
        "For example:\n",
        "\n",
        "| List 1 | List 2 |\n",
        "| - | - |\n",
        "| 3 | 4 |\n",
        "| 4 | 3 |\n",
        "| 2 | 5 |\n",
        "| 1 | 3 |\n",
        "| 3 | 9 |\n",
        "| 3 | 3 |\n",
        "\n",
        "Maybe the lists are only off by a small amount! To find out, pair up the numbers and measure how far apart they are. Pair up the smallest number in the left list with the smallest number in the right list, then the second-smallest left number with the second-smallest right number, and so on.\n",
        "\n",
        "Within each pair, figure out how far apart the two numbers are; you'll need to add up all of those distances. For example, if you pair up a 3 from the left list with a 7 from the right list, the distance apart is 4; if you pair up a 9 with a 3, the distance apart is 6.\n",
        "\n",
        "In the example list above, the pairs and distances would be as follows:\n",
        "\n",
        "The smallest number in the left list is 1, and the smallest number in the right list is 3. The distance between them is 2.\n",
        "The second-smallest number in the left list is 2, and the second-smallest number in the right list is another 3. The distance between them is 1.\n",
        "The third-smallest number in both lists is 3, so the distance between them is 0.\n",
        "The next numbers to pair up are 3 and 4, a distance of 1.\n",
        "The fifth-smallest numbers in each list are 3 and 5, a distance of 2.\n",
        "Finally, the largest number in the left list is 4, while the largest number in the right list is 9; these are a distance 5 apart.\n",
        "To find the total distance between the left list and the right list, add up the distances between all of the pairs you found. In the example above, this is 2 + 1 + 0 + 1 + 2 + 5, a total distance of 11!\n",
        "\n",
        "Your actual left and right lists contain many location IDs. What is the total distance between your lists?"
      ],
      "metadata": {
        "id": "v1Xm2zOgO5lt"
      }
    },
    {
      "cell_type": "code",
      "source": [
        "left_locations = []\n",
        "right_locations = []\n",
        "\n",
        "repeats = {}\n",
        "\n",
        "with open('./inputs/1.txt', 'r') as file:\n",
        "  for line in file:\n",
        "    left_id, right_id = map(int, line.strip().split())\n",
        "\n",
        "    if right_id not in repeats:\n",
        "      repeats[right_id] = 1\n",
        "    else:\n",
        "      repeats[right_id] += 1\n",
        "\n",
        "    left_locations.append(left_id)\n",
        "    right_locations.append(right_id)\n",
        "\n",
        "  left_locations.sort()\n",
        "  right_locations.sort()\n",
        "\n",
        "part1 = sum(abs(left - right) for left, right in zip(left_locations, right_locations))\n",
        "\n",
        "print(part1)"
      ],
      "metadata": {
        "colab": {
          "base_uri": "https://localhost:8080/"
        },
        "id": "17OjUOltO4Id",
        "outputId": "c7e0052b-0d28-4dc9-8f99-ded1535334f1"
      },
      "execution_count": null,
      "outputs": [
        {
          "output_type": "stream",
          "name": "stdout",
          "text": [
            "2264607\n"
          ]
        }
      ]
    },
    {
      "cell_type": "markdown",
      "source": [
        "### Part 2"
      ],
      "metadata": {
        "id": "7r8NqB2oVLYh"
      }
    },
    {
      "cell_type": "markdown",
      "source": [
        "Your analysis only confirmed what everyone feared: the two lists of location IDs are indeed very different.\n",
        "\n",
        "Or are they?\n",
        "\n",
        "The Historians can't agree on which group made the mistakes or how to read most of the Chief's handwriting, but in the commotion you notice an interesting detail: a lot of location IDs appear in both lists! Maybe the other numbers aren't location IDs at all but rather misinterpreted handwriting.\n",
        "\n",
        "This time, you'll need to figure out exactly how often each number from the left list appears in the right list. Calculate a total similarity score by adding up each number in the left list after multiplying it by the number of times that number appears in the right list.\n",
        "\n",
        "Here are the same example lists again:\n",
        "\n",
        "| List 1 | List 2 |\n",
        "| - | - |\n",
        "| 3 | 4 |\n",
        "| 4 | 3 |\n",
        "| 2 | 5 |\n",
        "| 1 | 3 |\n",
        "| 3 | 9 |\n",
        "| 3 | 3 |\n",
        "\n",
        "For these example lists, here is the process of finding the similarity score:\n",
        "\n",
        "The first number in the left list is 3. It appears in the right list three times, so the similarity score increases by 3 * 3 = 9.\n",
        "The second number in the left list is 4. It appears in the right list once, so the similarity score increases by 4 * 1 = 4.\n",
        "The third number in the left list is 2. It does not appear in the right list, so the similarity score does not increase (2 * 0 = 0).\n",
        "The fourth number, 1, also does not appear in the right list.\n",
        "The fifth number, 3, appears in the right list three times; the similarity score increases by 9.\n",
        "The last number, 3, appears in the right list three times; the similarity score again increases by 9.\n",
        "So, for these example lists, the similarity score at the end of this process is 31 (9 + 4 + 0 + 0 + 9 + 9).\n",
        "\n",
        "Once again consider your left and right lists. What is their similarity score?"
      ],
      "metadata": {
        "id": "JSsClw1rVPZc"
      }
    },
    {
      "cell_type": "code",
      "source": [
        "part2 = sum(left_number * repeats[left_number] if left_number in repeats else 0 for left_number in left_locations)\n",
        "\n",
        "print(part2)"
      ],
      "metadata": {
        "colab": {
          "base_uri": "https://localhost:8080/"
        },
        "id": "1av9iKwlVhc9",
        "outputId": "f45a9075-c281-4118-b84a-9f46357485fc"
      },
      "execution_count": null,
      "outputs": [
        {
          "output_type": "stream",
          "name": "stdout",
          "text": [
            "19457120\n"
          ]
        }
      ]
    },
    {
      "cell_type": "markdown",
      "source": [
        "## Day 2"
      ],
      "metadata": {
        "id": "X5wgElJBYvaU"
      }
    },
    {
      "cell_type": "markdown",
      "source": [
        "### Part 1"
      ],
      "metadata": {
        "id": "DojWSuXgYx59"
      }
    },
    {
      "cell_type": "markdown",
      "source": [
        "Fortunately, the first location The Historians want to search isn't a long walk from the Chief Historian's office.\n",
        "\n",
        "While the Red-Nosed Reindeer nuclear fusion/fission plant appears to contain no sign of the Chief Historian, the engineers there run up to you as soon as they see you. Apparently, they still talk about the time Rudolph was saved through molecular synthesis from a single electron.\n",
        "\n",
        "They're quick to add that - since you're already here - they'd really appreciate your help analyzing some unusual data from the Red-Nosed reactor. You turn to check if The Historians are waiting for you, but they seem to have already divided into groups that are currently searching every corner of the facility. You offer to help with the unusual data.\n",
        "\n",
        "The unusual data (your puzzle input) consists of many reports, one report per line. Each report is a list of numbers called levels that are separated by spaces. For example:\n",
        "\n",
        "|   |   |   |   |   |\n",
        "| - | - | - | - | - |\n",
        "| 7 | 6 | 4 | 2 | 1 |\n",
        "| 1 | 2 | 7 | 8 | 9 |\n",
        "| 9 | 7 | 6 | 2 | 1 |\n",
        "| 1 | 3 | 2 | 4 | 5 |\n",
        "| 8 | 6 | 4 | 4 | 1 |\n",
        "| 1 | 3 | 6 | 7 | 9 |\n",
        "\n",
        "This example data contains six reports each containing five levels.\n",
        "\n",
        "The engineers are trying to figure out which reports are safe. The Red-Nosed reactor safety systems can only tolerate levels that are either gradually increasing or gradually decreasing. So, a report only counts as safe if both of the following are true:\n",
        "\n",
        "The levels are either all increasing or all decreasing.\n",
        "Any two adjacent levels differ by at least one and at most three.\n",
        "In the example above, the reports can be found safe or unsafe by checking those rules:\n",
        "\n",
        "* 7 6 4 2 1: Safe because the levels are all decreasing by 1 or 2.\n",
        "* 1 2 7 8 9: Unsafe because 2 7 is an increase of 5.\n",
        "* 9 7 6 2 1: Unsafe because 6 2 is a decrease of 4.\n",
        "* 1 3 2 4 5: Unsafe because 1 3 is increasing but 3 2 is decreasing.\n",
        "* 8 6 4 4 1: Unsafe because 4 4 is neither an increase or a decrease.\n",
        "* 1 3 6 7 9: Safe because the levels are all increasing by 1, 2, or 3.\n",
        "\n",
        "So, in this example, 2 reports are safe.\n",
        "\n",
        "Analyze the unusual data from the engineers. How many reports are safe?"
      ],
      "metadata": {
        "id": "lrVb6Ov1Y2ml"
      }
    },
    {
      "cell_type": "code",
      "source": [
        "safe_reports = 0\n",
        "\n",
        "MIN_DIFF = 1\n",
        "MAX_DIFF = 3\n",
        "\n",
        "def is_safe_report(levels):\n",
        "  is_increasing = levels[1] > levels[0]\n",
        "\n",
        "  for i in range(0, len(levels) - 1):\n",
        "    level_0, level_1 = levels[i], levels[i+1]\n",
        "\n",
        "    if is_increasing and not level_1 > level_0:\n",
        "      return False\n",
        "\n",
        "    if not is_increasing and not level_0 > level_1:\n",
        "      return False\n",
        "\n",
        "    if not MIN_DIFF <= abs(level_1 - level_0) <= MAX_DIFF:\n",
        "      return False\n",
        "\n",
        "  return True\n",
        "\n",
        "with open('./inputs/2.txt', 'r') as file:\n",
        "  for line in file:\n",
        "    levels = list(map(int, line.strip().split()))\n",
        "    safe_reports += int(is_safe_report(levels))\n",
        "\n",
        "print(safe_reports)"
      ],
      "metadata": {
        "colab": {
          "base_uri": "https://localhost:8080/"
        },
        "id": "kFcWWdITabyk",
        "outputId": "1f490cff-689a-4960-f51b-b5fa219c8c83"
      },
      "execution_count": null,
      "outputs": [
        {
          "output_type": "stream",
          "name": "stdout",
          "text": [
            "510\n"
          ]
        }
      ]
    },
    {
      "cell_type": "markdown",
      "source": [
        "### Part 2"
      ],
      "metadata": {
        "id": "OmV-XtrGsVeQ"
      }
    },
    {
      "cell_type": "markdown",
      "source": [
        "The engineers are surprised by the low number of safe reports until they realize they forgot to tell you about the Problem Dampener.\n",
        "\n",
        "The Problem Dampener is a reactor-mounted module that lets the reactor safety systems tolerate a single bad level in what would otherwise be a safe report. It's like the bad level never happened!\n",
        "\n",
        "Now, the same rules apply as before, except if removing a single level from an unsafe report would make it safe, the report instead counts as safe.\n",
        "\n",
        "More of the above example's reports are now safe:\n",
        "\n",
        "* 7 6 4 2 1: Safe without removing any level.\n",
        "* 1 2 7 8 9: Unsafe regardless of which level is removed.\n",
        "* 9 7 6 2 1: Unsafe regardless of which level is removed.\n",
        "* 1 3 2 4 5: Safe by removing the second level, 3.\n",
        "* 8 6 4 4 1: Safe by removing the third level, 4.\n",
        "* 1 3 6 7 9: Safe without removing any level.\n",
        "\n",
        "Thanks to the Problem Dampener, 4 reports are actually safe!\n",
        "\n",
        "Update your analysis by handling situations where the Problem Dampener can remove a single level from unsafe reports. How many reports are now safe?"
      ],
      "metadata": {
        "id": "kNUaccuosYTz"
      }
    },
    {
      "cell_type": "code",
      "source": [
        "safe_reports = 0\n",
        "\n",
        "with open('./inputs/2.txt', 'r') as file:\n",
        "  for line in file:\n",
        "    levels = list(map(int, line.strip().split()))\n",
        "\n",
        "    if is_safe_report(levels):\n",
        "      safe_reports += 1\n",
        "      continue;\n",
        "\n",
        "    for i in range(0, len(levels)):\n",
        "      new_levels = levels.copy()\n",
        "      del new_levels[i]\n",
        "\n",
        "      if is_safe_report(new_levels):\n",
        "        safe_reports += 1\n",
        "        break\n",
        "\n",
        "print(safe_reports)"
      ],
      "metadata": {
        "colab": {
          "base_uri": "https://localhost:8080/"
        },
        "id": "PxHDYNp3saGG",
        "outputId": "70489234-7f73-45d3-e8a2-75c061800d7d"
      },
      "execution_count": null,
      "outputs": [
        {
          "output_type": "stream",
          "name": "stdout",
          "text": [
            "553\n"
          ]
        }
      ]
    },
    {
      "cell_type": "markdown",
      "source": [
        "## Day 3"
      ],
      "metadata": {
        "id": "OCbARh4i7f6S"
      }
    },
    {
      "cell_type": "markdown",
      "source": [
        "### Part 1"
      ],
      "metadata": {
        "id": "V58rWWnr7hSJ"
      }
    },
    {
      "cell_type": "markdown",
      "source": [
        "\"Our computers are having issues, so I have no idea if we have any Chief Historians in stock! You're welcome to check the warehouse, though,\" says the mildly flustered shopkeeper at the North Pole Toboggan Rental Shop. The Historians head out to take a look.\n",
        "\n",
        "The shopkeeper turns to you. \"Any chance you can see why our computers are having issues again?\"\n",
        "\n",
        "The computer appears to be trying to run a program, but its memory (your puzzle input) is corrupted. All of the instructions have been jumbled up!\n",
        "\n",
        "It seems like the goal of the program is just to multiply some numbers. It does that with instructions like mul(X,Y), where X and Y are each 1-3 digit numbers. For instance, mul(44,46) multiplies 44 by 46 to get a result of 2024. Similarly, mul(123,4) would multiply 123 by 4.\n",
        "\n",
        "However, because the program's memory has been corrupted, there are also many invalid characters that should be ignored, even if they look like part of a mul instruction. Sequences like ```mul(4*```, ```mul(6,9!```, ```?(12,34)```, or ```mul ( 2 , 4 )``` do nothing.\n",
        "\n",
        "For example, consider the following section of corrupted memory:\n",
        "\n",
        "```xmul(2,4)%&mul[3,7]!@^do_not_mul(5,5)+mul(32,64]then(mul(11,8)mul(8,5))```\n",
        "\n",
        "Only the four highlighted sections are real mul instructions. Adding up the result of each instruction produces 161 ```(2*4 + 5*5 + 11*8 + 8*5)```.\n",
        "\n",
        "Scan the corrupted memory for uncorrupted mul instructions. What do you get if you add up all of the results of the multiplications?"
      ],
      "metadata": {
        "id": "HSW0uulc7j2W"
      }
    },
    {
      "cell_type": "code",
      "source": [
        "import re\n",
        "\n",
        "summ_total = 0\n",
        "with open('./inputs/3.txt', 'r') as file:\n",
        "  for line in file:\n",
        "    for mul in re.findall(r'mul\\(\\d+,\\d+\\)', line):\n",
        "      number, multiplier = map(int, re.findall(r'\\d+', mul))\n",
        "      summ_total += number * multiplier\n",
        "\n",
        "print(summ_total)"
      ],
      "metadata": {
        "colab": {
          "base_uri": "https://localhost:8080/"
        },
        "id": "myHAJlpJ8gCx",
        "outputId": "97f36196-faf4-4ccc-8356-c954ac91cf1c"
      },
      "execution_count": null,
      "outputs": [
        {
          "output_type": "stream",
          "name": "stdout",
          "text": [
            "178794710\n"
          ]
        }
      ]
    },
    {
      "cell_type": "markdown",
      "source": [
        "### Part 2"
      ],
      "metadata": {
        "id": "4uhhcQOBHVhp"
      }
    },
    {
      "cell_type": "markdown",
      "source": [
        "As you scan through the corrupted memory, you notice that some of the conditional statements are also still intact. If you handle some of the uncorrupted conditional statements in the program, you might be able to get an even more accurate result.\n",
        "\n",
        "There are two new instructions you'll need to handle:\n",
        "\n",
        "The do() instruction enables future mul instructions.\n",
        "The don't() instruction disables future mul instructions.\n",
        "Only the most recent do() or don't() instruction applies. At the beginning of the program, mul instructions are enabled.\n",
        "\n",
        "For example:\n",
        "\n",
        "```xmul(2,4)&mul[3,7]!^don't()_mul(5,5)+mul(32,64](mul(11,8)undo()?mul(8,5))```\n",
        "\n",
        "This corrupted memory is similar to the example from before, but this time the mul(5,5) and mul(11,8) instructions are disabled because there is a don't() instruction before them. The other mul instructions function normally, including the one at the end that gets re-enabled by a do() instruction.\n",
        "\n",
        "This time, the sum of the results is 48 (2*4 + 8*5).\n",
        "\n",
        "Handle the new instructions; what do you get if you add up all of the results of just the enabled multiplications?"
      ],
      "metadata": {
        "id": "aFseQ1UyHY0v"
      }
    },
    {
      "cell_type": "code",
      "source": [
        "import re\n",
        "\n",
        "summ_total = 0\n",
        "with open('./inputs/3.txt', 'r') as file:\n",
        "  mul_enabled = True\n",
        "\n",
        "  for line in file:\n",
        "    for char in re.findall(r\"do\\(\\)|don't\\(\\)|mul\\(\\d+,\\d+\\)\", line):\n",
        "      if char == 'do()':\n",
        "        mul_enabled = True\n",
        "      elif char == \"don't()\":\n",
        "        mul_enabled = False\n",
        "      elif mul_enabled:\n",
        "        number, multiplier = map(int, re.findall(r'\\d+', char))\n",
        "        summ_total += number * multiplier\n",
        "\n",
        "print(summ_total)"
      ],
      "metadata": {
        "colab": {
          "base_uri": "https://localhost:8080/"
        },
        "id": "G1cvOulYHaT2",
        "outputId": "1ac7f3b0-7c10-4008-b001-cb06a1711c79"
      },
      "execution_count": null,
      "outputs": [
        {
          "output_type": "stream",
          "name": "stdout",
          "text": [
            "76729637\n"
          ]
        }
      ]
    },
    {
      "cell_type": "markdown",
      "source": [
        "## Day 4"
      ],
      "metadata": {
        "id": "6ugGcg1oKDVH"
      }
    },
    {
      "cell_type": "markdown",
      "source": [
        "### Part 1"
      ],
      "metadata": {
        "id": "dVy0MfeYLT_0"
      }
    },
    {
      "cell_type": "markdown",
      "source": [
        "\"Looks like the Chief's not here. Next!\" One of The Historians pulls out a device and pushes the only button on it. After a brief flash, you recognize the interior of the Ceres monitoring station!\n",
        "\n",
        "As the search for the Chief continues, a small Elf who lives on the station tugs on your shirt; she'd like to know if you could help her with her word search (your puzzle input). She only has to find one word: XMAS.\n",
        "\n",
        "This word search allows words to be horizontal, vertical, diagonal, written backwards, or even overlapping other words. It's a little unusual, though, as you don't merely need to find one instance of XMAS - you need to find all of them. Here are a few ways XMAS might appear, where irrelevant characters have been replaced with .:\n",
        "\n",
        "\n",
        "| | | | | | |\n",
        "|-|-|-|-|-|-|\n",
        "|.|.|X|.|.|.|\n",
        "|.|S|A|M|X|.|\n",
        "|.|A|.|.|A|.|\n",
        "|X|M|A|S|.|S|\n",
        "|.|X|.|.|.|.|\n",
        "\n",
        "The actual word search will be full of letters instead. For example:\n",
        "\n",
        "| | | | | | |\n",
        "|-|-|-|-|-|-|\n",
        "|M|M|M|S|X|X|M|A|S|M|\n",
        "|M|S|A|M|X|M|S|M|S|A|\n",
        "|A|M|X|S|X|M|A|A|M|M|\n",
        "|M|S|A|M|A|S|M|S|M|X|\n",
        "|X|M|A|S|A|M|X|A|M|M|\n",
        "|X|X|A|M|M|X|X|A|M|A|\n",
        "|S|M|S|M|S|A|S|X|S|S|\n",
        "|S|A|X|A|M|A|S|A|A|A|\n",
        "|M|A|M|M|M|X|M|M|M|M|\n",
        "|M|X|M|X|A|X|M|A|S|X|\n",
        "\n",
        "In this word search, XMAS occurs a total of 18 times; here's the same word search again, but where letters not involved in any XMAS have been replaced with .:\n",
        "\n",
        "| | | | | | |\n",
        "|-|-|-|-|-|-|\n",
        "|.|.|.|.|X|X|M|A|S|.|\n",
        "|.|S|A|M|X|M|S|.|.|.|\n",
        "|.|.|.|S|.|.|A|.|.|.|\n",
        "|.|.|A|.|A|.|M|S|.|X|\n",
        "|X|M|A|S|A|M|X|.|M|M|\n",
        "|X|.|.|.|.|.|X|A|.|A|\n",
        "|S|.|S|.|S|.|S|.|S|S|\n",
        "|.|A|.|A|.|A|.|A|.|A|\n",
        "|.|.|M|.|M|.|M|.|M|M|\n",
        "|.|X|.|X|.|X|M|A|S|X|\n",
        "\n",
        "Take a look at the little Elf's word search. How many times does XMAS appear?"
      ],
      "metadata": {
        "id": "_9nkGsQmKFma"
      }
    },
    {
      "cell_type": "code",
      "source": [
        "xmas_count = 0\n",
        "\n",
        "WORD = 'XMAS'\n",
        "DIRECTIONS = [\n",
        "  (0, 1), # ->\n",
        "  (1, 0), # v\n",
        "  (1, 1), # \\v\n",
        "  (1, -1), # /v\n",
        "  (0, -1), # <-\n",
        "  (-1, 0), # ^\n",
        "  (-1, -1), # \\^\n",
        "  (-1, 1) # /^\n",
        "]\n",
        "\n",
        "with open('./inputs/4.txt', 'r') as file:\n",
        "  matrix = [list(x.strip()) for x in file]\n",
        "\n",
        "  y_rows = len(matrix)\n",
        "  x_cols = len(matrix[0])\n",
        "\n",
        "  x_points = [(x, y) for y in range(y_rows)\n",
        "    for x in range(x_cols) if matrix[y][x] == WORD[0]]\n",
        "\n",
        "  for x, y in x_points:\n",
        "    for dir_x, dir_y in DIRECTIONS:\n",
        "      word_found = True\n",
        "\n",
        "      for i in range(4):\n",
        "        new_x, new_y = x + i * dir_x, y + i * dir_y\n",
        "\n",
        "        if not 0 <= new_x < x_cols or not 0 <= new_y < y_rows:\n",
        "          word_found = False\n",
        "          break\n",
        "\n",
        "        if matrix[new_y][new_x] != WORD[i]:\n",
        "          word_found = False\n",
        "          break\n",
        "\n",
        "      if word_found:\n",
        "        xmas_count += 1\n",
        "\n",
        "print(xmas_count)"
      ],
      "metadata": {
        "colab": {
          "base_uri": "https://localhost:8080/"
        },
        "id": "Yhe6F4hLLTAd",
        "outputId": "0624cde4-cf6c-4286-a26e-cdbaede5dfdc"
      },
      "execution_count": 63,
      "outputs": [
        {
          "output_type": "stream",
          "name": "stdout",
          "text": [
            "2536\n"
          ]
        }
      ]
    },
    {
      "cell_type": "markdown",
      "source": [
        "### Part 2"
      ],
      "metadata": {
        "id": "tFLEsIDGsA8k"
      }
    },
    {
      "cell_type": "markdown",
      "source": [
        "he Elf looks quizzically at you. Did you misunderstand the assignment?\n",
        "\n",
        "Looking for the instructions, you flip over the word search to find that this isn't actually an XMAS puzzle; it's an X-MAS puzzle in which you're supposed to find two MAS in the shape of an X. One way to achieve that is like this:\n",
        "\n",
        "M.S\n",
        ".A.\n",
        "M.S\n",
        "Irrelevant characters have again been replaced with . in the above diagram. Within the X, each MAS can be written forwards or backwards.\n",
        "\n",
        "Here's the same example from before, but this time all of the X-MASes have been kept instead:\n",
        "\n",
        ".M.S......\n",
        "..A..MSMS.\n",
        ".M.S.MAA..\n",
        "..A.ASMSM.\n",
        ".M.S.M....\n",
        "..........\n",
        "S.S.S.S.S.\n",
        ".A.A.A.A..\n",
        "M.M.M.M.M.\n",
        "..........\n",
        "In this example, an X-MAS appears 9 times.\n",
        "\n",
        "Flip the word search from the instructions back over to the word search side and try again. How many times does an X-MAS appear?"
      ],
      "metadata": {
        "id": "5wVbb4x_sC00"
      }
    },
    {
      "cell_type": "code",
      "source": [
        "xmas_count = 0\n",
        "\n",
        "DIRECTIONS = [\n",
        "  (1, 1), # \\v\n",
        "  (1, -1), # /v\n",
        "  (-1, -1), # \\^\n",
        "  (-1, 1) # /^\n",
        "]\n",
        "\n",
        "OPPOSITE_DIRECTIONS = [\n",
        "  (-1, -1), # \\^\n",
        "  (-1, 1), # /^\n",
        "  (1, 1), # \\v\n",
        "  (1, -1) # /v\n",
        "]\n",
        "\n",
        "with open('./inputs/4.txt', 'r') as file:\n",
        "  matrix = [list(x.strip()) for x in file]\n",
        "\n",
        "  y_rows = len(matrix)\n",
        "  x_cols = len(matrix[0])\n",
        "\n",
        "  a_points = [(x, y) for y in range(y_rows)\n",
        "    for x in range(x_cols) if matrix[y][x] == \"A\"]\n",
        "\n",
        "  for x, y in a_points:\n",
        "    total_m = 0\n",
        "    total_s = 0\n",
        "\n",
        "    for i, (dir_x, dir_y) in enumerate(DIRECTIONS):\n",
        "      new_x, new_y = x + dir_x, y + dir_y\n",
        "\n",
        "      if not 0 <= new_x < x_cols or not 0 <= new_y < y_rows:\n",
        "        continue\n",
        "\n",
        "      if matrix[new_y][new_x] == 'M':\n",
        "        opp_dir_x, opp_dir_y = OPPOSITE_DIRECTIONS[i]\n",
        "        opp_x, opp_y = x + opp_dir_x, y + opp_dir_y\n",
        "\n",
        "        if not 0 <= opp_x < x_cols or not 0 <= opp_y < y_rows:\n",
        "          continue\n",
        "\n",
        "        if matrix[opp_y][opp_x] == 'M':\n",
        "          continue\n",
        "\n",
        "        total_m += 1\n",
        "\n",
        "      if matrix[new_y][new_x] == 'S':\n",
        "        total_s += 1\n",
        "\n",
        "    if total_m == 2 and total_s == 2:\n",
        "      xmas_count += 1\n",
        "\n",
        "print(xmas_count)"
      ],
      "metadata": {
        "colab": {
          "base_uri": "https://localhost:8080/"
        },
        "id": "oQAQq2UbsE0i",
        "outputId": "b1d2490f-ba3e-41e0-9fbf-5c8f9815b415"
      },
      "execution_count": 66,
      "outputs": [
        {
          "output_type": "stream",
          "name": "stdout",
          "text": [
            "1875\n"
          ]
        }
      ]
    }
  ]
}